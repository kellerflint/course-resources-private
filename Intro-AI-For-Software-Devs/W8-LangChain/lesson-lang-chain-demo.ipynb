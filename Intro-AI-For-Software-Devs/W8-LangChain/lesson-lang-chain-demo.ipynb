{
 "cells": [
  {
   "cell_type": "markdown",
   "metadata": {},
   "source": [
    "# Setup\n",
    "\n",
    "### API Key"
   ]
  },
  {
   "cell_type": "code",
   "execution_count": 167,
   "metadata": {},
   "outputs": [],
   "source": [
    "api_key = \"\""
   ]
  },
  {
   "cell_type": "markdown",
   "metadata": {},
   "source": [
    "### Install Packages"
   ]
  },
  {
   "cell_type": "code",
   "execution_count": 168,
   "metadata": {},
   "outputs": [
    {
     "name": "stdout",
     "output_type": "stream",
     "text": [
      "Requirement already satisfied: langchain in c:\\users\\kflin\\appdata\\local\\programs\\python\\python311\\lib\\site-packages (0.2.0)\n",
      "Requirement already satisfied: PyYAML>=5.3 in c:\\users\\kflin\\appdata\\roaming\\python\\python311\\site-packages (from langchain) (6.0.1)\n",
      "Requirement already satisfied: SQLAlchemy<3,>=1.4 in c:\\users\\kflin\\appdata\\local\\programs\\python\\python311\\lib\\site-packages (from langchain) (2.0.30)\n",
      "Requirement already satisfied: aiohttp<4.0.0,>=3.8.3 in c:\\users\\kflin\\appdata\\local\\programs\\python\\python311\\lib\\site-packages (from langchain) (3.9.5)\n",
      "Requirement already satisfied: dataclasses-json<0.7,>=0.5.7 in c:\\users\\kflin\\appdata\\local\\programs\\python\\python311\\lib\\site-packages (from langchain) (0.6.6)\n",
      "Requirement already satisfied: langchain-core<0.3.0,>=0.2.0 in c:\\users\\kflin\\appdata\\local\\programs\\python\\python311\\lib\\site-packages (from langchain) (0.2.0)\n",
      "Requirement already satisfied: langchain-text-splitters<0.3.0,>=0.2.0 in c:\\users\\kflin\\appdata\\local\\programs\\python\\python311\\lib\\site-packages (from langchain) (0.2.0)\n",
      "Requirement already satisfied: langsmith<0.2.0,>=0.1.17 in c:\\users\\kflin\\appdata\\local\\programs\\python\\python311\\lib\\site-packages (from langchain) (0.1.56)\n",
      "Requirement already satisfied: numpy<2,>=1 in c:\\users\\kflin\\appdata\\local\\programs\\python\\python311\\lib\\site-packages (from langchain) (1.26.4)\n",
      "Requirement already satisfied: pydantic<3,>=1 in c:\\users\\kflin\\appdata\\local\\programs\\python\\python311\\lib\\site-packages (from langchain) (2.7.1)\n",
      "Requirement already satisfied: requests<3,>=2 in c:\\users\\kflin\\appdata\\local\\programs\\python\\python311\\lib\\site-packages (from langchain) (2.31.0)\n",
      "Requirement already satisfied: tenacity<9.0.0,>=8.1.0 in c:\\users\\kflin\\appdata\\local\\programs\\python\\python311\\lib\\site-packages (from langchain) (8.3.0)\n",
      "Requirement already satisfied: aiosignal>=1.1.2 in c:\\users\\kflin\\appdata\\local\\programs\\python\\python311\\lib\\site-packages (from aiohttp<4.0.0,>=3.8.3->langchain) (1.3.1)\n",
      "Requirement already satisfied: attrs>=17.3.0 in c:\\users\\kflin\\appdata\\local\\programs\\python\\python311\\lib\\site-packages (from aiohttp<4.0.0,>=3.8.3->langchain) (23.2.0)\n",
      "Requirement already satisfied: frozenlist>=1.1.1 in c:\\users\\kflin\\appdata\\local\\programs\\python\\python311\\lib\\site-packages (from aiohttp<4.0.0,>=3.8.3->langchain) (1.4.1)\n",
      "Requirement already satisfied: multidict<7.0,>=4.5 in c:\\users\\kflin\\appdata\\local\\programs\\python\\python311\\lib\\site-packages (from aiohttp<4.0.0,>=3.8.3->langchain) (6.0.5)\n",
      "Requirement already satisfied: yarl<2.0,>=1.0 in c:\\users\\kflin\\appdata\\local\\programs\\python\\python311\\lib\\site-packages (from aiohttp<4.0.0,>=3.8.3->langchain) (1.9.4)\n",
      "Requirement already satisfied: marshmallow<4.0.0,>=3.18.0 in c:\\users\\kflin\\appdata\\local\\programs\\python\\python311\\lib\\site-packages (from dataclasses-json<0.7,>=0.5.7->langchain) (3.21.2)\n",
      "Requirement already satisfied: typing-inspect<1,>=0.4.0 in c:\\users\\kflin\\appdata\\local\\programs\\python\\python311\\lib\\site-packages (from dataclasses-json<0.7,>=0.5.7->langchain) (0.9.0)\n",
      "Requirement already satisfied: jsonpatch<2.0,>=1.33 in c:\\users\\kflin\\appdata\\local\\programs\\python\\python311\\lib\\site-packages (from langchain-core<0.3.0,>=0.2.0->langchain) (1.33)\n",
      "Requirement already satisfied: packaging<24.0,>=23.2 in c:\\users\\kflin\\appdata\\local\\programs\\python\\python311\\lib\\site-packages (from langchain-core<0.3.0,>=0.2.0->langchain) (23.2)\n",
      "Requirement already satisfied: orjson<4.0.0,>=3.9.14 in c:\\users\\kflin\\appdata\\local\\programs\\python\\python311\\lib\\site-packages (from langsmith<0.2.0,>=0.1.17->langchain) (3.10.3)\n",
      "Requirement already satisfied: annotated-types>=0.4.0 in c:\\users\\kflin\\appdata\\local\\programs\\python\\python311\\lib\\site-packages (from pydantic<3,>=1->langchain) (0.6.0)\n",
      "Requirement already satisfied: pydantic-core==2.18.2 in c:\\users\\kflin\\appdata\\local\\programs\\python\\python311\\lib\\site-packages (from pydantic<3,>=1->langchain) (2.18.2)\n",
      "Requirement already satisfied: typing-extensions>=4.6.1 in c:\\users\\kflin\\appdata\\local\\programs\\python\\python311\\lib\\site-packages (from pydantic<3,>=1->langchain) (4.11.0)\n",
      "Requirement already satisfied: charset-normalizer<4,>=2 in c:\\users\\kflin\\appdata\\local\\programs\\python\\python311\\lib\\site-packages (from requests<3,>=2->langchain) (3.3.2)\n",
      "Requirement already satisfied: idna<4,>=2.5 in c:\\users\\kflin\\appdata\\local\\programs\\python\\python311\\lib\\site-packages (from requests<3,>=2->langchain) (3.7)\n",
      "Requirement already satisfied: urllib3<3,>=1.21.1 in c:\\users\\kflin\\appdata\\local\\programs\\python\\python311\\lib\\site-packages (from requests<3,>=2->langchain) (2.2.1)\n",
      "Requirement already satisfied: certifi>=2017.4.17 in c:\\users\\kflin\\appdata\\local\\programs\\python\\python311\\lib\\site-packages (from requests<3,>=2->langchain) (2024.2.2)\n",
      "Requirement already satisfied: greenlet!=0.4.17 in c:\\users\\kflin\\appdata\\local\\programs\\python\\python311\\lib\\site-packages (from SQLAlchemy<3,>=1.4->langchain) (3.0.3)\n",
      "Requirement already satisfied: jsonpointer>=1.9 in c:\\users\\kflin\\appdata\\local\\programs\\python\\python311\\lib\\site-packages (from jsonpatch<2.0,>=1.33->langchain-core<0.3.0,>=0.2.0->langchain) (2.4)\n",
      "Requirement already satisfied: mypy-extensions>=0.3.0 in c:\\users\\kflin\\appdata\\local\\programs\\python\\python311\\lib\\site-packages (from typing-inspect<1,>=0.4.0->dataclasses-json<0.7,>=0.5.7->langchain) (1.0.0)\n",
      "Requirement already satisfied: langchain_groq in c:\\users\\kflin\\appdata\\local\\programs\\python\\python311\\lib\\site-packages (0.1.4)\n",
      "Requirement already satisfied: groq<1,>=0.4.1 in c:\\users\\kflin\\appdata\\local\\programs\\python\\python311\\lib\\site-packages (from langchain_groq) (0.5.0)\n",
      "Requirement already satisfied: langchain-core<0.3,>=0.1.45 in c:\\users\\kflin\\appdata\\local\\programs\\python\\python311\\lib\\site-packages (from langchain_groq) (0.2.0)\n",
      "Requirement already satisfied: anyio<5,>=3.5.0 in c:\\users\\kflin\\appdata\\local\\programs\\python\\python311\\lib\\site-packages (from groq<1,>=0.4.1->langchain_groq) (4.3.0)\n",
      "Requirement already satisfied: distro<2,>=1.7.0 in c:\\users\\kflin\\appdata\\local\\programs\\python\\python311\\lib\\site-packages (from groq<1,>=0.4.1->langchain_groq) (1.9.0)\n",
      "Requirement already satisfied: httpx<1,>=0.23.0 in c:\\users\\kflin\\appdata\\local\\programs\\python\\python311\\lib\\site-packages (from groq<1,>=0.4.1->langchain_groq) (0.27.0)\n",
      "Requirement already satisfied: pydantic<3,>=1.9.0 in c:\\users\\kflin\\appdata\\local\\programs\\python\\python311\\lib\\site-packages (from groq<1,>=0.4.1->langchain_groq) (2.7.1)\n",
      "Requirement already satisfied: sniffio in c:\\users\\kflin\\appdata\\local\\programs\\python\\python311\\lib\\site-packages (from groq<1,>=0.4.1->langchain_groq) (1.3.1)\n",
      "Requirement already satisfied: typing-extensions<5,>=4.7 in c:\\users\\kflin\\appdata\\local\\programs\\python\\python311\\lib\\site-packages (from groq<1,>=0.4.1->langchain_groq) (4.11.0)\n",
      "Requirement already satisfied: PyYAML>=5.3 in c:\\users\\kflin\\appdata\\roaming\\python\\python311\\site-packages (from langchain-core<0.3,>=0.1.45->langchain_groq) (6.0.1)\n",
      "Requirement already satisfied: jsonpatch<2.0,>=1.33 in c:\\users\\kflin\\appdata\\local\\programs\\python\\python311\\lib\\site-packages (from langchain-core<0.3,>=0.1.45->langchain_groq) (1.33)\n",
      "Requirement already satisfied: langsmith<0.2.0,>=0.1.0 in c:\\users\\kflin\\appdata\\local\\programs\\python\\python311\\lib\\site-packages (from langchain-core<0.3,>=0.1.45->langchain_groq) (0.1.56)\n",
      "Requirement already satisfied: packaging<24.0,>=23.2 in c:\\users\\kflin\\appdata\\local\\programs\\python\\python311\\lib\\site-packages (from langchain-core<0.3,>=0.1.45->langchain_groq) (23.2)\n",
      "Requirement already satisfied: tenacity<9.0.0,>=8.1.0 in c:\\users\\kflin\\appdata\\local\\programs\\python\\python311\\lib\\site-packages (from langchain-core<0.3,>=0.1.45->langchain_groq) (8.3.0)\n",
      "Requirement already satisfied: idna>=2.8 in c:\\users\\kflin\\appdata\\local\\programs\\python\\python311\\lib\\site-packages (from anyio<5,>=3.5.0->groq<1,>=0.4.1->langchain_groq) (3.7)\n",
      "Requirement already satisfied: certifi in c:\\users\\kflin\\appdata\\local\\programs\\python\\python311\\lib\\site-packages (from httpx<1,>=0.23.0->groq<1,>=0.4.1->langchain_groq) (2024.2.2)\n",
      "Requirement already satisfied: httpcore==1.* in c:\\users\\kflin\\appdata\\local\\programs\\python\\python311\\lib\\site-packages (from httpx<1,>=0.23.0->groq<1,>=0.4.1->langchain_groq) (1.0.5)\n",
      "Requirement already satisfied: h11<0.15,>=0.13 in c:\\users\\kflin\\appdata\\local\\programs\\python\\python311\\lib\\site-packages (from httpcore==1.*->httpx<1,>=0.23.0->groq<1,>=0.4.1->langchain_groq) (0.14.0)\n",
      "Requirement already satisfied: jsonpointer>=1.9 in c:\\users\\kflin\\appdata\\local\\programs\\python\\python311\\lib\\site-packages (from jsonpatch<2.0,>=1.33->langchain-core<0.3,>=0.1.45->langchain_groq) (2.4)\n",
      "Requirement already satisfied: orjson<4.0.0,>=3.9.14 in c:\\users\\kflin\\appdata\\local\\programs\\python\\python311\\lib\\site-packages (from langsmith<0.2.0,>=0.1.0->langchain-core<0.3,>=0.1.45->langchain_groq) (3.10.3)\n",
      "Requirement already satisfied: requests<3,>=2 in c:\\users\\kflin\\appdata\\local\\programs\\python\\python311\\lib\\site-packages (from langsmith<0.2.0,>=0.1.0->langchain-core<0.3,>=0.1.45->langchain_groq) (2.31.0)\n",
      "Requirement already satisfied: annotated-types>=0.4.0 in c:\\users\\kflin\\appdata\\local\\programs\\python\\python311\\lib\\site-packages (from pydantic<3,>=1.9.0->groq<1,>=0.4.1->langchain_groq) (0.6.0)\n",
      "Requirement already satisfied: pydantic-core==2.18.2 in c:\\users\\kflin\\appdata\\local\\programs\\python\\python311\\lib\\site-packages (from pydantic<3,>=1.9.0->groq<1,>=0.4.1->langchain_groq) (2.18.2)\n",
      "Requirement already satisfied: charset-normalizer<4,>=2 in c:\\users\\kflin\\appdata\\local\\programs\\python\\python311\\lib\\site-packages (from requests<3,>=2->langsmith<0.2.0,>=0.1.0->langchain-core<0.3,>=0.1.45->langchain_groq) (3.3.2)\n",
      "Requirement already satisfied: urllib3<3,>=1.21.1 in c:\\users\\kflin\\appdata\\local\\programs\\python\\python311\\lib\\site-packages (from requests<3,>=2->langsmith<0.2.0,>=0.1.0->langchain-core<0.3,>=0.1.45->langchain_groq) (2.2.1)\n",
      "Requirement already satisfied: langchain_experimental in c:\\users\\kflin\\appdata\\local\\programs\\python\\python311\\lib\\site-packages (0.0.59)\n",
      "Requirement already satisfied: langchain-community<0.3,>=0.2 in c:\\users\\kflin\\appdata\\local\\programs\\python\\python311\\lib\\site-packages (from langchain_experimental) (0.2.0)\n",
      "Requirement already satisfied: langchain-core<0.3,>=0.2 in c:\\users\\kflin\\appdata\\local\\programs\\python\\python311\\lib\\site-packages (from langchain_experimental) (0.2.0)\n",
      "Requirement already satisfied: PyYAML>=5.3 in c:\\users\\kflin\\appdata\\roaming\\python\\python311\\site-packages (from langchain-community<0.3,>=0.2->langchain_experimental) (6.0.1)\n",
      "Requirement already satisfied: SQLAlchemy<3,>=1.4 in c:\\users\\kflin\\appdata\\local\\programs\\python\\python311\\lib\\site-packages (from langchain-community<0.3,>=0.2->langchain_experimental) (2.0.30)\n",
      "Requirement already satisfied: aiohttp<4.0.0,>=3.8.3 in c:\\users\\kflin\\appdata\\local\\programs\\python\\python311\\lib\\site-packages (from langchain-community<0.3,>=0.2->langchain_experimental) (3.9.5)\n",
      "Requirement already satisfied: dataclasses-json<0.7,>=0.5.7 in c:\\users\\kflin\\appdata\\local\\programs\\python\\python311\\lib\\site-packages (from langchain-community<0.3,>=0.2->langchain_experimental) (0.6.6)\n",
      "Requirement already satisfied: langchain<0.3.0,>=0.2.0 in c:\\users\\kflin\\appdata\\local\\programs\\python\\python311\\lib\\site-packages (from langchain-community<0.3,>=0.2->langchain_experimental) (0.2.0)\n",
      "Requirement already satisfied: langsmith<0.2.0,>=0.1.0 in c:\\users\\kflin\\appdata\\local\\programs\\python\\python311\\lib\\site-packages (from langchain-community<0.3,>=0.2->langchain_experimental) (0.1.56)\n",
      "Requirement already satisfied: numpy<2,>=1 in c:\\users\\kflin\\appdata\\local\\programs\\python\\python311\\lib\\site-packages (from langchain-community<0.3,>=0.2->langchain_experimental) (1.26.4)\n",
      "Requirement already satisfied: requests<3,>=2 in c:\\users\\kflin\\appdata\\local\\programs\\python\\python311\\lib\\site-packages (from langchain-community<0.3,>=0.2->langchain_experimental) (2.31.0)\n",
      "Requirement already satisfied: tenacity<9.0.0,>=8.1.0 in c:\\users\\kflin\\appdata\\local\\programs\\python\\python311\\lib\\site-packages (from langchain-community<0.3,>=0.2->langchain_experimental) (8.3.0)\n",
      "Requirement already satisfied: jsonpatch<2.0,>=1.33 in c:\\users\\kflin\\appdata\\local\\programs\\python\\python311\\lib\\site-packages (from langchain-core<0.3,>=0.2->langchain_experimental) (1.33)\n",
      "Requirement already satisfied: packaging<24.0,>=23.2 in c:\\users\\kflin\\appdata\\local\\programs\\python\\python311\\lib\\site-packages (from langchain-core<0.3,>=0.2->langchain_experimental) (23.2)\n",
      "Requirement already satisfied: pydantic<3,>=1 in c:\\users\\kflin\\appdata\\local\\programs\\python\\python311\\lib\\site-packages (from langchain-core<0.3,>=0.2->langchain_experimental) (2.7.1)\n",
      "Requirement already satisfied: aiosignal>=1.1.2 in c:\\users\\kflin\\appdata\\local\\programs\\python\\python311\\lib\\site-packages (from aiohttp<4.0.0,>=3.8.3->langchain-community<0.3,>=0.2->langchain_experimental) (1.3.1)\n",
      "Requirement already satisfied: attrs>=17.3.0 in c:\\users\\kflin\\appdata\\local\\programs\\python\\python311\\lib\\site-packages (from aiohttp<4.0.0,>=3.8.3->langchain-community<0.3,>=0.2->langchain_experimental) (23.2.0)\n",
      "Requirement already satisfied: frozenlist>=1.1.1 in c:\\users\\kflin\\appdata\\local\\programs\\python\\python311\\lib\\site-packages (from aiohttp<4.0.0,>=3.8.3->langchain-community<0.3,>=0.2->langchain_experimental) (1.4.1)\n",
      "Requirement already satisfied: multidict<7.0,>=4.5 in c:\\users\\kflin\\appdata\\local\\programs\\python\\python311\\lib\\site-packages (from aiohttp<4.0.0,>=3.8.3->langchain-community<0.3,>=0.2->langchain_experimental) (6.0.5)\n",
      "Requirement already satisfied: yarl<2.0,>=1.0 in c:\\users\\kflin\\appdata\\local\\programs\\python\\python311\\lib\\site-packages (from aiohttp<4.0.0,>=3.8.3->langchain-community<0.3,>=0.2->langchain_experimental) (1.9.4)\n",
      "Requirement already satisfied: marshmallow<4.0.0,>=3.18.0 in c:\\users\\kflin\\appdata\\local\\programs\\python\\python311\\lib\\site-packages (from dataclasses-json<0.7,>=0.5.7->langchain-community<0.3,>=0.2->langchain_experimental) (3.21.2)\n",
      "Requirement already satisfied: typing-inspect<1,>=0.4.0 in c:\\users\\kflin\\appdata\\local\\programs\\python\\python311\\lib\\site-packages (from dataclasses-json<0.7,>=0.5.7->langchain-community<0.3,>=0.2->langchain_experimental) (0.9.0)\n",
      "Requirement already satisfied: jsonpointer>=1.9 in c:\\users\\kflin\\appdata\\local\\programs\\python\\python311\\lib\\site-packages (from jsonpatch<2.0,>=1.33->langchain-core<0.3,>=0.2->langchain_experimental) (2.4)\n",
      "Requirement already satisfied: langchain-text-splitters<0.3.0,>=0.2.0 in c:\\users\\kflin\\appdata\\local\\programs\\python\\python311\\lib\\site-packages (from langchain<0.3.0,>=0.2.0->langchain-community<0.3,>=0.2->langchain_experimental) (0.2.0)\n",
      "Requirement already satisfied: orjson<4.0.0,>=3.9.14 in c:\\users\\kflin\\appdata\\local\\programs\\python\\python311\\lib\\site-packages (from langsmith<0.2.0,>=0.1.0->langchain-community<0.3,>=0.2->langchain_experimental) (3.10.3)\n",
      "Requirement already satisfied: annotated-types>=0.4.0 in c:\\users\\kflin\\appdata\\local\\programs\\python\\python311\\lib\\site-packages (from pydantic<3,>=1->langchain-core<0.3,>=0.2->langchain_experimental) (0.6.0)\n",
      "Requirement already satisfied: pydantic-core==2.18.2 in c:\\users\\kflin\\appdata\\local\\programs\\python\\python311\\lib\\site-packages (from pydantic<3,>=1->langchain-core<0.3,>=0.2->langchain_experimental) (2.18.2)\n",
      "Requirement already satisfied: typing-extensions>=4.6.1 in c:\\users\\kflin\\appdata\\local\\programs\\python\\python311\\lib\\site-packages (from pydantic<3,>=1->langchain-core<0.3,>=0.2->langchain_experimental) (4.11.0)\n",
      "Requirement already satisfied: charset-normalizer<4,>=2 in c:\\users\\kflin\\appdata\\local\\programs\\python\\python311\\lib\\site-packages (from requests<3,>=2->langchain-community<0.3,>=0.2->langchain_experimental) (3.3.2)\n",
      "Requirement already satisfied: idna<4,>=2.5 in c:\\users\\kflin\\appdata\\local\\programs\\python\\python311\\lib\\site-packages (from requests<3,>=2->langchain-community<0.3,>=0.2->langchain_experimental) (3.7)\n",
      "Requirement already satisfied: urllib3<3,>=1.21.1 in c:\\users\\kflin\\appdata\\local\\programs\\python\\python311\\lib\\site-packages (from requests<3,>=2->langchain-community<0.3,>=0.2->langchain_experimental) (2.2.1)\n",
      "Requirement already satisfied: certifi>=2017.4.17 in c:\\users\\kflin\\appdata\\local\\programs\\python\\python311\\lib\\site-packages (from requests<3,>=2->langchain-community<0.3,>=0.2->langchain_experimental) (2024.2.2)\n",
      "Requirement already satisfied: greenlet!=0.4.17 in c:\\users\\kflin\\appdata\\local\\programs\\python\\python311\\lib\\site-packages (from SQLAlchemy<3,>=1.4->langchain-community<0.3,>=0.2->langchain_experimental) (3.0.3)\n",
      "Requirement already satisfied: mypy-extensions>=0.3.0 in c:\\users\\kflin\\appdata\\local\\programs\\python\\python311\\lib\\site-packages (from typing-inspect<1,>=0.4.0->dataclasses-json<0.7,>=0.5.7->langchain-community<0.3,>=0.2->langchain_experimental) (1.0.0)\n",
      "Requirement already satisfied: numexpr in c:\\users\\kflin\\appdata\\local\\programs\\python\\python311\\lib\\site-packages (2.10.0)\n",
      "Requirement already satisfied: numpy>=1.19.3 in c:\\users\\kflin\\appdata\\local\\programs\\python\\python311\\lib\\site-packages (from numexpr) (1.26.4)\n",
      "Requirement already satisfied: wikipedia in c:\\users\\kflin\\appdata\\local\\programs\\python\\python311\\lib\\site-packages (1.4.0)\n",
      "Requirement already satisfied: beautifulsoup4 in c:\\users\\kflin\\appdata\\roaming\\python\\python311\\site-packages (from wikipedia) (4.12.3)\n",
      "Requirement already satisfied: requests<3.0.0,>=2.0.0 in c:\\users\\kflin\\appdata\\local\\programs\\python\\python311\\lib\\site-packages (from wikipedia) (2.31.0)\n",
      "Requirement already satisfied: charset-normalizer<4,>=2 in c:\\users\\kflin\\appdata\\local\\programs\\python\\python311\\lib\\site-packages (from requests<3.0.0,>=2.0.0->wikipedia) (3.3.2)\n",
      "Requirement already satisfied: idna<4,>=2.5 in c:\\users\\kflin\\appdata\\local\\programs\\python\\python311\\lib\\site-packages (from requests<3.0.0,>=2.0.0->wikipedia) (3.7)\n",
      "Requirement already satisfied: urllib3<3,>=1.21.1 in c:\\users\\kflin\\appdata\\local\\programs\\python\\python311\\lib\\site-packages (from requests<3.0.0,>=2.0.0->wikipedia) (2.2.1)\n",
      "Requirement already satisfied: certifi>=2017.4.17 in c:\\users\\kflin\\appdata\\local\\programs\\python\\python311\\lib\\site-packages (from requests<3.0.0,>=2.0.0->wikipedia) (2024.2.2)\n",
      "Requirement already satisfied: soupsieve>1.2 in c:\\users\\kflin\\appdata\\roaming\\python\\python311\\site-packages (from beautifulsoup4->wikipedia) (2.5)\n"
     ]
    }
   ],
   "source": [
    "!pip install langchain\n",
    "!pip install langchain_groq\n",
    "!pip install numexpr\n",
    "!pip install wikipedia"
   ]
  },
  {
   "cell_type": "markdown",
   "metadata": {},
   "source": [
    "# LangChain Demo"
   ]
  },
  {
   "cell_type": "markdown",
   "metadata": {},
   "source": [
    "### Calling LLMs in LangChain\n",
    "\n",
    "One of the features of langchain is that it helps create an easy to use interface on top of many different LLMs."
   ]
  },
  {
   "cell_type": "code",
   "execution_count": 185,
   "metadata": {},
   "outputs": [
    {
     "data": {
      "text/plain": [
       "\"Hello! It's nice to meet you. Is there something I can help you with, or would you like to chat?\""
      ]
     },
     "execution_count": 185,
     "metadata": {},
     "output_type": "execute_result"
    }
   ],
   "source": [
    "from langchain_groq import ChatGroq\n",
    "\n",
    "llm = ChatGroq(temperature=1, groq_api_key=api_key, model_name=\"llama3-70b-8192\")\n",
    "\n",
    "response = llm.predict(\"Hello\")\n",
    "\n",
    "response"
   ]
  },
  {
   "cell_type": "markdown",
   "metadata": {},
   "source": [
    "### Prompts"
   ]
  },
  {
   "cell_type": "code",
   "execution_count": 170,
   "metadata": {},
   "outputs": [
    {
     "name": "stdout",
     "output_type": "stream",
     "text": [
      "Prompt Template Object: input_variables=['code', 'input_lang', 'output_lang'] template='Convert the code that is delimited by tripple backticks from {input_lang} to {output_lang}. code: ```{code}```    \\n'\n"
     ]
    }
   ],
   "source": [
    "from langchain.prompts import ChatPromptTemplate\n",
    "\n",
    "convert_code_template_string = \"\"\"Convert the code that is delimited by triple backticks \\\n",
    "from {input_lang} to {output_lang}. \\\n",
    "code: ```{code}```    \n",
    "\"\"\"\n",
    "\n",
    "convert_code_prompt_template = ChatPromptTemplate.from_template(convert_code_template_string)\n",
    "\n",
    "print(\"Prompt Template Object:\", convert_code_prompt_template.messages[0].prompt)"
   ]
  },
  {
   "cell_type": "code",
   "execution_count": 171,
   "metadata": {},
   "outputs": [],
   "source": [
    "input_lang = \"JavaScript\"\n",
    "output_lang = \"Python\"\n",
    "code = \"\"\"\n",
    "class Node {\n",
    "  constructor(value) {\n",
    "    this.value = value;\n",
    "    this.next = null;\n",
    "  }\n",
    "}\n",
    "\n",
    "class LinkedList {\n",
    "  constructor() {\n",
    "    this.head = null;\n",
    "    this.tail = null;\n",
    "    this.length = 0;\n",
    "  }\n",
    "\n",
    "  append(value) {\n",
    "    const newNode = new Node(value);\n",
    "\n",
    "    if (!this.head) {\n",
    "      this.head = newNode;\n",
    "      this.tail = newNode;\n",
    "    } else {\n",
    "      this.tail.next = newNode;\n",
    "      this.tail = newNode;\n",
    "    }\n",
    "\n",
    "    this.length++;\n",
    "  }\n",
    "}\n",
    "\"\"\""
   ]
  },
  {
   "cell_type": "code",
   "execution_count": 172,
   "metadata": {},
   "outputs": [
    {
     "data": {
      "text/plain": [
       "[HumanMessage(content='Convert the code that is delimited by tripple backticks from JavaScript to Python. code: ```\\nclass Node {\\n  constructor(value) {\\n    this.value = value;\\n    this.next = null;\\n  }\\n}\\n\\nclass LinkedList {\\n  constructor() {\\n    this.head = null;\\n    this.tail = null;\\n    this.length = 0;\\n  }\\n\\n  append(value) {\\n    const newNode = new Node(value);\\n\\n    if (!this.head) {\\n      this.head = newNode;\\n      this.tail = newNode;\\n    } else {\\n      this.tail.next = newNode;\\n      this.tail = newNode;\\n    }\\n\\n    this.length++;\\n  }\\n}\\n```    \\n')]"
      ]
     },
     "execution_count": 172,
     "metadata": {},
     "output_type": "execute_result"
    }
   ],
   "source": [
    "prompt = convert_code_prompt_template.format_messages(input_lang=input_lang, output_lang=output_lang, code=code)\n",
    "prompt"
   ]
  },
  {
   "cell_type": "code",
   "execution_count": 186,
   "metadata": {},
   "outputs": [
    {
     "name": "stdout",
     "output_type": "stream",
     "text": [
      "Here is the equivalent code in Python:\n",
      "```\n",
      "class Node:\n",
      "    def __init__(self, value):\n",
      "        self.value = value\n",
      "        self.next = None\n",
      "\n",
      "class LinkedList:\n",
      "    def __init__(self):\n",
      "        self.head = None\n",
      "        self.tail = None\n",
      "        self.length = 0\n",
      "\n",
      "    def append(self, value):\n",
      "        new_node = Node(value)\n",
      "\n",
      "        if not self.head:\n",
      "            self.head = new_node\n",
      "            self.tail = new_node\n",
      "        else:\n",
      "            self.tail.next = new_node\n",
      "            self.tail = new_node\n",
      "\n",
      "        self.length += 1\n",
      "```\n",
      "Note that in Python, we use `__init__` instead of `constructor`, and we don't need to use `this` to refer to the current object. Additionally, we use `None` instead of `null` to represent the absence of a value.\n"
     ]
    }
   ],
   "source": [
    "response = llm.invoke(prompt).content\n",
    "print(response)"
   ]
  },
  {
   "cell_type": "markdown",
   "metadata": {},
   "source": [
    "### Chains"
   ]
  },
  {
   "cell_type": "code",
   "execution_count": 174,
   "metadata": {},
   "outputs": [],
   "source": [
    "from langchain.chains import SequentialChain\n",
    "from langchain.chains import LLMChain"
   ]
  },
  {
   "cell_type": "code",
   "execution_count": 189,
   "metadata": {},
   "outputs": [
    {
     "name": "stdout",
     "output_type": "stream",
     "text": [
      "Here is the equivalent code in Python:\n",
      "```\n",
      "class Node:\n",
      "    def __init__(self, value):\n",
      "        self.value = value\n",
      "        self.next = None\n",
      "\n",
      "class LinkedList:\n",
      "    def __init__(self):\n",
      "        self.head = None\n",
      "        self.tail = None\n",
      "        self.length = 0\n",
      "\n",
      "    def append(self, value):\n",
      "        new_node = Node(value)\n",
      "\n",
      "        if not self.head:\n",
      "            self.head = new_node\n",
      "            self.tail = new_node\n",
      "        else:\n",
      "            self.tail.next = new_node\n",
      "            self.tail = new_node\n",
      "\n",
      "        self.length += 1\n",
      "```\n",
      "Note that in Python, we use `__init__` method to initialize objects, and `self` to refer to the current object. I've also removed the `const` keyword, as it's not needed in Python.\n"
     ]
    }
   ],
   "source": [
    "convert_code_chain = LLMChain(llm=llm, prompt=convert_code_prompt_template, output_key=\"converted_code\", verbose=False)\n",
    "response = convert_code_chain.run({\"input_lang\": input_lang, \"output_lang\": output_lang, \"code\": code})\n",
    "print(response)"
   ]
  },
  {
   "cell_type": "code",
   "execution_count": 176,
   "metadata": {},
   "outputs": [
    {
     "name": "stdout",
     "output_type": "stream",
     "text": [
      "Prompt Template Object: input_variables=['converted_code'] template='Write unit tests for the code that is delimited by tripple backticks. ```{converted_code}```'\n"
     ]
    }
   ],
   "source": [
    "test_code_template_string = \"\"\"Write unit tests for the code that is delimited by triple backticks. ```{converted_code}```\"\"\"\n",
    "\n",
    "test_code_prompt_template = ChatPromptTemplate.from_template(test_code_template_string)\n",
    "print(\"Prompt Template Object:\", test_code_prompt_template.messages[0].prompt)"
   ]
  },
  {
   "cell_type": "code",
   "execution_count": 177,
   "metadata": {},
   "outputs": [],
   "source": [
    "test_code_chain = LLMChain(llm=llm, prompt=test_code_prompt_template, output_key=\"test_code\")"
   ]
  },
  {
   "cell_type": "code",
   "execution_count": 192,
   "metadata": {},
   "outputs": [
    {
     "name": "stdout",
     "output_type": "stream",
     "text": [
      "Converted Code: Here is the equivalent code in Python:\n",
      "```\n",
      "class Node:\n",
      "    def __init__(self, value):\n",
      "        self.value = value\n",
      "        self.next = None\n",
      "\n",
      "class LinkedList:\n",
      "    def __init__(self):\n",
      "        self.head = None\n",
      "        self.tail = None\n",
      "        self.length = 0\n",
      "\n",
      "    def append(self, value):\n",
      "        new_node = Node(value)\n",
      "\n",
      "        if not self.head:\n",
      "            self.head = new_node\n",
      "            self.tail = new_node\n",
      "        else:\n",
      "            self.tail.next = new_node\n",
      "            self.tail = new_node\n",
      "\n",
      "        self.length += 1\n",
      "```\n",
      "Note that in Python, we don't need to use `this` to refer to instance variables, and we use `self` instead. Additionally, we use `__init__` to define the constructor, and we don't need to specify the types of variables.\n",
      "Test Code Here are some unit tests for the provided code:\n",
      "```\n",
      "import unittest\n",
      "\n",
      "class TestNode(unittest.TestCase):\n",
      "    def test_node_init(self):\n",
      "        node = Node(1)\n",
      "        self.assertEqual(node.value, 1)\n",
      "        self.assertIsNone(node.next)\n",
      "\n",
      "class TestLinkedList(unittest.TestCase):\n",
      "    def test_init(self):\n",
      "        ll = LinkedList()\n",
      "        self.assertIsNone(ll.head)\n",
      "        self.assertIsNone(ll.tail)\n",
      "        self.assertEqual(ll.length, 0)\n",
      "\n",
      "    def test_append_single_node(self):\n",
      "        ll = LinkedList()\n",
      "        ll.append(1)\n",
      "        self.assertIsNotNone(ll.head)\n",
      "        self.assertIsNotNone(ll.tail)\n",
      "        self.assertEqual(ll.head, ll.tail)\n",
      "        self.assertEqual(ll.head.value, 1)\n",
      "        self.assertEqual(ll.length, 1)\n",
      "\n",
      "    def test_append_multiple_nodes(self):\n",
      "        ll = LinkedList()\n",
      "        ll.append(1)\n",
      "        ll.append(2)\n",
      "        ll.append(3)\n",
      "        self.assertIsNotNone(ll.head)\n",
      "        self.assertIsNotNone(ll.tail)\n",
      "        self.assertNotEqual(ll.head, ll.tail)\n",
      "        self.assertEqual(ll.head.value, 1)\n",
      "        self.assertEqual(ll.tail.value, 3)\n",
      "        self.assertEqual(ll.length, 3)\n",
      "\n",
      "    def test_append_nodes_with_next(self):\n",
      "        ll = LinkedList()\n",
      "        ll.append(1)\n",
      "        ll.append(2)\n",
      "        ll.append(3)\n",
      "        self.assertIsNotNone(ll.head.next)\n",
      "        self.assertEqual(ll.head.next.value, 2)\n",
      "        self.assertEqual(ll.head.next.next, ll.tail)\n",
      "\n",
      "if __name__ == '__main__':\n",
      "    unittest.main()\n",
      "```\n",
      "These tests cover the following scenarios:\n",
      "\n",
      "1. `Node` initialization\n",
      "2. `LinkedList` initialization\n",
      "3. Appending a single node to the linked list\n",
      "4. Appending multiple nodes to the linked list\n",
      "5. Verifying the `next` attribute of nodes in the linked list\n"
     ]
    }
   ],
   "source": [
    "convert_test_code_chain = SequentialChain(\n",
    "    chains=[convert_code_chain, test_code_chain],\n",
    "    input_variables=[\"input_lang\", \"output_lang\", \"code\"],\n",
    "    output_variables=[\"converted_code\", \"test_code\"]\n",
    ")\n",
    "result = convert_test_code_chain.invoke({\"input_lang\": input_lang, \"output_lang\": output_lang, \"code\": code})\n",
    "\n",
    "print(\"Converted Code:\", result[\"converted_code\"])\n",
    "print(\"Test Code\", result[\"test_code\"])"
   ]
  },
  {
   "cell_type": "markdown",
   "metadata": {},
   "source": [
    "### Agents / Tools"
   ]
  },
  {
   "cell_type": "code",
   "execution_count": 179,
   "metadata": {},
   "outputs": [],
   "source": [
    "from langchain.agents import load_tools, initialize_agent\n",
    "from langchain.agents import AgentType"
   ]
  },
  {
   "cell_type": "code",
   "execution_count": 181,
   "metadata": {},
   "outputs": [
    {
     "name": "stdout",
     "output_type": "stream",
     "text": [
      "\n",
      "\n",
      "\u001b[1m> Entering new AgentExecutor chain...\u001b[0m\n",
      "\u001b[32;1m\u001b[1;3mQuestion: What year was the oldest person to ever live born? How many years ago were they born from the current year 2024?\n",
      "\n",
      "Thought: I need to find the birth year of the oldest person to ever live.\n",
      "\n",
      "Action:\n",
      "```\n",
      "{\n",
      "  \"action\": \"wikipedia\",\n",
      "  \"action_input\": \"Jeanne Calment\"\n",
      "}\n",
      "```\n",
      "\u001b[0m\n",
      "Observation: \u001b[33;1m\u001b[1;3mPage: Jeanne Calment\n",
      "Summary: Jeanne Louise Calment (French: [ʒan lwiz kalmɑ̃] ; 21 February 1875 – 4 August 1997) was a French supercentenarian and, with a documented lifespan of 122 years and 164 days, is the world's oldest verified person. Her longevity attracted media attention and medical studies of her health and lifestyle. She is the only person verified to have reached the age of 120.   \n",
      "According to census records, Calment outlived both her daughter and grandson. In January 1988, she was widely reported to be the oldest living person, and in 1995, at age 120, was declared the oldest person to have ever lived.\n",
      "\n",
      "Page: Oldest people\n",
      "Summary: This is a list of tables of the oldest people in the world in ordinal ranks. To avoid including false or unconfirmed claims of old age, names here are restricted to those people whose ages have been validated by an international body dealing in longevity research, such as the Gerontology Research Group or Guinness World Records, and others who have otherwise been reliably sourced.\n",
      "The longest documented and verified human lifespan is that of Jeanne Calment of France, a woman who lived to age 122 years and 164 days. As females live longer than males on average, women predominate in combined records. The longest lifespan for a man is that of Jiroemon Kimura of Japan (1897–2013), who lived to age 116 years and 54 days.\n",
      "The oldest living person in the world whose age has been validated is 117-year-old Maria Branyas of Spain, born 4 March 1907. The oldest living verified man is 111-year-old John Tinniswood of the United Kingdom, born 26 August 1912.\n",
      "\n",
      "Page: List of the verified oldest people\n",
      "Summary: These are lists of the 100 known verified oldest women and men sorted in descending order by age in years and days.\n",
      "The oldest person ever whose age has been independently verified is Jeanne Calment (1875–1997) of France, who lived to the age of 122 years and 164 days. The oldest verified man ever is Jiroemon Kimura (1897–2013) of Japan, who lived to the age of 116 years and 54 days.\n",
      "The oldest known living person is Maria Branyas of Spain (born in the USA), aged 117 years, 77 days. The oldest known living man is John Tinniswood of the United Kingdom, aged 111 years, 268 days. The 100 oldest women have, on average, lived several years longer than the 100 oldest men.\u001b[0m\n",
      "Thought:\u001b[32;1m\u001b[1;3mI now know the birth year of Jeanne Calment, who is the oldest person to ever live. She was born on February 21, 1875.\n",
      "\n",
      "Action:\n",
      "```\n",
      "{\n",
      "  \"action\": \"Calculator\",\n",
      "  \"action_input\": \"2024 - 1875\"\n",
      "}\n",
      "```\n",
      "\u001b[0m\n",
      "Observation: \u001b[36;1m\u001b[1;3mAnswer: 149\u001b[0m\n",
      "Thought:\u001b[32;1m\u001b[1;3mI now know the answer to how many years ago Jeanne Calment was born from the current year 2024. She was born 149 years ago.\n",
      "\n",
      "Final Answer: Jeanne Calment, the oldest person to ever live, was born in 1875, and as of 2024, she was born 149 years ago.\u001b[0m\n",
      "\n",
      "\u001b[1m> Finished chain.\u001b[0m\n"
     ]
    },
    {
     "data": {
      "text/plain": [
       "{'input': 'What year was the oldest person to ever live born? How many years ago were they born from the current year 2024?',\n",
       " 'output': 'Jeanne Calment, the oldest person to ever live, was born in 1875, and as of 2024, she was born 149 years ago.'}"
      ]
     },
     "execution_count": 181,
     "metadata": {},
     "output_type": "execute_result"
    }
   ],
   "source": [
    "tools = load_tools([\"llm-math\", \"wikipedia\"], llm=llm)\n",
    "\n",
    "agent = initialize_agent(\n",
    "    tools,\n",
    "    llm,\n",
    "    agent=AgentType.CHAT_ZERO_SHOT_REACT_DESCRIPTION,\n",
    "    handle_parsing_errors=True,\n",
    "    verbose=True\n",
    ")\n",
    "\n",
    "agent(\"What year was the oldest person to ever live born? How many years ago were they born from the current year 2024?\")"
   ]
  },
  {
   "cell_type": "code",
   "execution_count": 182,
   "metadata": {},
   "outputs": [],
   "source": [
    "from langchain.agents import tool\n",
    "from datetime import date\n",
    "\n",
    "@tool\n",
    "def time(text: str) -> str:\n",
    "    \"\"\"Returns todays date, use this for any \\\n",
    "    questions related to knowing todays date. \\\n",
    "    The input should always be an empty string, \\\n",
    "    and this function will always return todays \\\n",
    "    date - any date mathematics should occur \\\n",
    "    outside this function.\"\"\"\n",
    "    return str(date.today())"
   ]
  },
  {
   "cell_type": "code",
   "execution_count": 184,
   "metadata": {},
   "outputs": [
    {
     "name": "stdout",
     "output_type": "stream",
     "text": [
      "\n",
      "\n",
      "\u001b[1m> Entering new AgentExecutor chain...\u001b[0m\n",
      "\u001b[32;1m\u001b[1;3mQuestion: What year was the oldest person to ever live born? How many years ago were they born from the current year?\n",
      "\n",
      "Thought: I need to find out who the oldest person to ever live is and when they were born. I can use Wikipedia to find this information.\n",
      "\n",
      "Action:\n",
      "```\n",
      "{\n",
      "  \"action\": \"wikipedia\",\n",
      "  \"action_input\": \"Oldest people\"\n",
      "}\n",
      "```\n",
      "\u001b[0m\n",
      "Observation: \u001b[33;1m\u001b[1;3mPage: Oldest people\n",
      "Summary: This is a list of tables of the oldest people in the world in ordinal ranks. To avoid including false or unconfirmed claims of old age, names here are restricted to those people whose ages have been validated by an international body dealing in longevity research, such as the Gerontology Research Group or Guinness World Records, and others who have otherwise been reliably sourced.\n",
      "The longest documented and verified human lifespan is that of Jeanne Calment of France, a woman who lived to age 122 years and 164 days. As females live longer than males on average, women predominate in combined records. The longest lifespan for a man is that of Jiroemon Kimura of Japan (1897–2013), who lived to age 116 years and 54 days.\n",
      "The oldest living person in the world whose age has been validated is 117-year-old Maria Branyas of Spain, born 4 March 1907. The oldest living verified man is 111-year-old John Tinniswood of the United Kingdom, born 26 August 1912.\n",
      "\n",
      "Page: List of oldest living people\n",
      "Summary: This is a list of the oldest living people who have been verified to be alive as of the dates of the cited supporting sources. It was estimated in 2015 that between 150 and 600 living people had reached the age of 110. The true number is uncertain, as not all supercentenarians are known to researchers at a given time, and some claims cannot be validated or are fraudulent.\n",
      "\n",
      "Maria Branyas (born 4 March 1907) of Spain is the world's oldest living person whose age has been validated.\n",
      "John Tinniswood (born 26 August 1912) of the United Kingdom is the world's oldest living man whose age has been validated.\n",
      "\n",
      "Page: List of the verified oldest people\n",
      "Summary: These are lists of the 100 known verified oldest women and men sorted in descending order by age in years and days.\n",
      "The oldest person ever whose age has been independently verified is Jeanne Calment (1875–1997) of France, who lived to the age of 122 years and 164 days. The oldest verified man ever is Jiroemon Kimura (1897–2013) of Japan, who lived to the age of 116 years and 54 days.\n",
      "The oldest known living person is Maria Branyas of Spain (born in the USA), aged 117 years, 77 days. The oldest known living man is John Tinniswood of the United Kingdom, aged 111 years, 268 days. The 100 oldest women have, on average, lived several years longer than the 100 oldest men.\u001b[0m\n",
      "Thought:\u001b[32;1m\u001b[1;3mI know the oldest person to ever live is Jeanne Calment, a French woman who lived to the age of 122 years and 164 days. She was born on February 21, 1875.\n",
      "\n",
      "Thought: I need to find out the current year to calculate how many years ago Jeanne Calment was born.\n",
      "\n",
      "Action:\n",
      "```\n",
      "{\n",
      "  \"action\": \"time\",\n",
      "  \"action_input\": \"\"\n",
      "}\n",
      "```\n",
      "\n",
      "\u001b[0m\n",
      "Observation: \u001b[38;5;200m\u001b[1;3m2024-05-20\u001b[0m\n",
      "Thought:\u001b[32;1m\u001b[1;3mI can now calculate the difference between the current year and Jeanne Calment's birth year.\n",
      "\n",
      "Action:\n",
      "```\n",
      "{\n",
      "  \"action\": \"Calculator\",\n",
      "  \"action_input\": \"2024 - 1875\"\n",
      "}\n",
      "```\n",
      "\n",
      "\u001b[0m\n",
      "Observation: \u001b[36;1m\u001b[1;3mAnswer: 149\u001b[0m\n",
      "Thought:\u001b[32;1m\u001b[1;3mI know the answer! Jeanne Calment, the oldest person to ever live, was born in 1875. Since the current year is 2024, she was born 149 years ago.\n",
      "\n",
      "Final Answer: Jeanne Calment was born in 1875, which is 149 years ago.\u001b[0m\n",
      "\n",
      "\u001b[1m> Finished chain.\u001b[0m\n"
     ]
    },
    {
     "data": {
      "text/plain": [
       "{'input': 'What year was the oldest person to ever live born? How many years ago were they born from the current year?',\n",
       " 'output': 'Jeanne Calment was born in 1875, which is 149 years ago.'}"
      ]
     },
     "execution_count": 184,
     "metadata": {},
     "output_type": "execute_result"
    }
   ],
   "source": [
    "tools = load_tools([\"llm-math\", \"wikipedia\"], llm=llm) + [time]\n",
    "\n",
    "agent = initialize_agent(\n",
    "    tools,\n",
    "    llm,\n",
    "    agent=AgentType.CHAT_ZERO_SHOT_REACT_DESCRIPTION,\n",
    "    handle_parsing_errors=True, # LLM might output something that can't be parsed. Pass it back to the LLM and have it correct when this is true.\n",
    "    verbose=True\n",
    ")\n",
    "\n",
    "agent(\"What year was the oldest person to ever live born? How many years ago were they born from the current year?\")"
   ]
  }
 ],
 "metadata": {
  "kernelspec": {
   "display_name": "Python 3",
   "language": "python",
   "name": "python3"
  },
  "language_info": {
   "codemirror_mode": {
    "name": "ipython",
    "version": 3
   },
   "file_extension": ".py",
   "mimetype": "text/x-python",
   "name": "python",
   "nbconvert_exporter": "python",
   "pygments_lexer": "ipython3",
   "version": "3.11.9"
  }
 },
 "nbformat": 4,
 "nbformat_minor": 2
}
